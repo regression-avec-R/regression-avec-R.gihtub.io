{
  "cells": [
    {
      "cell_type": "markdown",
      "metadata": {},
      "source": [
        "::: {.content-visible when-format=\"html\"}\n",
        "\n",
        "```{block}\n",
        "\\DeclareMathOperator{\\C}{Cov}\n",
        "\\DeclareMathOperator{\\V}{V}\n",
        "\\DeclareMathOperator{\\leR}{R^2}\n",
        "\\DeclareMathOperator{\\trace}{tr}\n",
        "\\DeclareMathOperator{\\tr}{tr}\n",
        "\n",
        "\\newcommand{\\M}{\\mathcal M}\n",
        "\\DeclareMathOperator{\\MCO}{MCO}\n",
        "\\DeclareMathOperator{\\SCR}{SCR}\n",
        "\\DeclareMathOperator{\\SCT}{SCT}\n",
        "\\DeclareMathOperator{\\SCE}{SCE}\n",
        "\\DeclareMathOperator{\\EQM}{EQM}\n",
        "\\DeclareMathOperator{\\diag}{diag}\n",
        "\\DeclareMathOperator{\\ro}{R^2_0}\n",
        "\\newcommand{\\SC}{\\text{SC}}\n",
        "\n",
        "\\newcommand{\\1}{\\mathbf{1}}\n",
        "\\newcommand{\\un}{\\mathbf{1}}\n",
        "\n",
        "\n",
        "\\newcommand{\\prob}{\\mathbf P}\n",
        "\\newcommand{\\argmin}{\\mathop{\\mathrm{argmin}}}\n",
        "\\newcommand{\\ind}{\\mathbf 1}\n",
        "\\newcommand{\\R}{\\mathbb R}\n",
        "\\newcommand{\\E}{\\mathbf E}\n",
        "\\newcommand{\\var}{\\mathbf V}\n",
        "\\newcommand{\\ps}[2]{\\langle #1,#2\\rangle}\n",
        "\\newcommand{\\card}[1]{|{#1}|}\n",
        "\\newcommand{\\cov}{\\mathbf{cov}}\n",
        "\\newcommand{\\corr}{\\text{corr}}\n",
        "\\newcommand{\\AUC}{\\text{AUC}}\n",
        "\\newcommand{\\logit}{\\text{logit}}\n",
        "\\newcommand{\\li}[2]{#1_{#2}}\n",
        "\\newcommand{\\ssli}[2]{#1_{(#2)}}\n",
        "\\newcommand{\\HH}{{\\mathcal{H}}}\n",
        "\\newcommand{\\Hz}{{\\mathrm{H_0}}}\n",
        "\\newcommand{\\Hu}{{\\mathrm{H_1}}}\n",
        "\\newcommand{\\NO}{{\\mathcal{N}}}\n",
        "\n",
        "\\usepackage{nicematrix}\n",
        "\\usepackage{blkarray}\n",
        "```\n",
        "\n",
        ":::"
      ],
      "id": "eb13a9e7"
    }
  ],
  "metadata": {
    "kernelspec": {
      "display_name": "Python 3",
      "language": "python",
      "name": "python3"
    }
  },
  "nbformat": 4,
  "nbformat_minor": 5
}